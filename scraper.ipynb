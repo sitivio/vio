{
  "cells": [
    {
      "cell_type": "markdown",
      "metadata": {
        "id": "view-in-github",
        "colab_type": "text"
      },
      "source": [
        "<a href=\"https://colab.research.google.com/github/sitivio/vio/blob/main/scraper.ipynb\" target=\"_parent\"><img src=\"https://colab.research.google.com/assets/colab-badge.svg\" alt=\"Open In Colab\"/></a>"
      ]
    },
    {
      "cell_type": "code",
      "execution_count": null,
      "metadata": {
        "id": "dR12iNYnOFsN"
      },
      "outputs": [],
      "source": [
        "!pip install -qq google-play-scraper"
      ]
    },
    {
      "cell_type": "markdown",
      "source": [
        "menginstal google play scraper"
      ],
      "metadata": {
        "id": "zRLRr6C9IdO0"
      }
    },
    {
      "cell_type": "code",
      "execution_count": null,
      "metadata": {
        "id": "1w02f0-yOxBT"
      },
      "outputs": [],
      "source": [
        "import json\n",
        "import pandas as pd\n",
        "from tqdm import tqdm\n",
        "from google_play_scraper import Sort, reviews, app\n",
        "\n",
        "from pygments import highlight\n",
        "from pygments.lexers import JsonLexer\n",
        "from pygments.formatters import TerminalFormatter"
      ]
    },
    {
      "cell_type": "markdown",
      "source": [
        "mengimport library yang akan dipakai"
      ],
      "metadata": {
        "id": "toC00NTaIjL1"
      }
    },
    {
      "cell_type": "code",
      "execution_count": null,
      "metadata": {
        "colab": {
          "base_uri": "https://localhost:8080/"
        },
        "id": "LgowOZ9CRiMD",
        "outputId": "66e6e72d-1f7b-4bfd-9d79-328eedb6dc19"
      },
      "outputs": [
        {
          "output_type": "stream",
          "name": "stdout",
          "text": [
            "Mounted at /content/gdrive/\n"
          ]
        }
      ],
      "source": [
        "from google.colab import drive\n",
        "drive.mount('/content/gdrive/', force_remount=True)\n",
        "path = \"gdrive/MyDrive/\""
      ]
    },
    {
      "cell_type": "markdown",
      "source": [
        "hasil scraper akan langsung disambungkan kedrive untuk mengimport hasilnya"
      ],
      "metadata": {
        "id": "4-dQ9J4SIoFw"
      }
    },
    {
      "cell_type": "code",
      "execution_count": null,
      "metadata": {
        "id": "YByZlQZMToyb"
      },
      "outputs": [],
      "source": [
        "app_packages = [\n",
        "    'id.or.nu.app'\n",
        "]"
      ]
    },
    {
      "cell_type": "markdown",
      "source": [
        "link aplikasi diambil dari bagian terakhir setelah (=) di google play pada aplikasi tersebut"
      ],
      "metadata": {
        "id": "UstYbFc3I3Ef"
      }
    },
    {
      "cell_type": "code",
      "execution_count": null,
      "metadata": {
        "colab": {
          "base_uri": "https://localhost:8080/"
        },
        "id": "ffwY1sIgUy1D",
        "outputId": "0618427c-61d2-4a30-9164-3745d9ac0c2c"
      },
      "outputs": [
        {
          "output_type": "stream",
          "name": "stderr",
          "text": [
            "100%|██████████| 1/1 [00:00<00:00,  5.05it/s]\n"
          ]
        }
      ],
      "source": [
        "app_infos = []\n",
        "\n",
        "for application in tqdm(app_packages) :\n",
        "  info = app(application, lang='id', country= 'id')\n",
        "  del info['comments']\n",
        "  app_infos.append(info)"
      ]
    },
    {
      "cell_type": "markdown",
      "source": [
        "Tqdm merupakan modul Python yang berguna untuk menampilkan progress bar dengan perulangan yang sederhana.\n",
        "info yg diambil yaitu berbahasa indonesia dan berasal dari negara indonesia\n",
        "ulasan yang diambil diberi sub kolom \"comment\""
      ],
      "metadata": {
        "id": "BMg4hQhjJn5t"
      }
    },
    {
      "cell_type": "code",
      "execution_count": null,
      "metadata": {
        "colab": {
          "base_uri": "https://localhost:8080/"
        },
        "id": "qrYc5pMcVuZk",
        "outputId": "5f361469-c0bf-423a-96d1-986600c76a62"
      },
      "outputs": [
        {
          "output_type": "stream",
          "name": "stderr",
          "text": [
            "100%|██████████| 1/1 [00:02<00:00,  2.40s/it]\n"
          ]
        }
      ],
      "source": [
        "#from IPython.core.interactiveshell import SingletonConfigurable\n",
        "app_reviews = []\n",
        "\n",
        "for ap in tqdm(app_packages):\n",
        "  for score in list(range(1,6)):\n",
        "    for sort_order in [Sort.MOST_RELEVANT, Sort.NEWEST]:\n",
        "     rvs, _ = reviews(\n",
        "        ap,\n",
        "        lang='id',\n",
        "        country='id',\n",
        "        sort=sort_order,\n",
        "        count=200 if score == 3 else 100,\n",
        "        filter_score_with = score\n",
        "     )\n",
        "     for r in rvs :\n",
        "        r['sortOrder'] = 'most_relevant' if sort_order == Sort.MOST_RELEVANT else 'newest'\n",
        "        r['appId'] = app\n",
        "        app_reviews.extend(rvs)"
      ]
    },
    {
      "cell_type": "code",
      "execution_count": null,
      "metadata": {
        "id": "LGWRPqaciBGr"
      },
      "outputs": [],
      "source": [
        "app_reviews_df = pd.DataFrame(app_reviews)"
      ]
    },
    {
      "cell_type": "code",
      "execution_count": null,
      "metadata": {
        "id": "Vk6GpTxRiRSI"
      },
      "outputs": [],
      "source": [
        "app_reviews_df = app_reviews_df.sort_values([\"appId\",\"at\"])"
      ]
    },
    {
      "cell_type": "code",
      "execution_count": null,
      "metadata": {
        "id": "hOOVt_PIimow"
      },
      "outputs": [],
      "source": [
        "app_reviews_df.to_csv(path+'hasil.csv', index=None, header=True)"
      ]
    }
  ],
  "metadata": {
    "colab": {
      "provenance": [],
      "authorship_tag": "ABX9TyOCJ36NlhVXotYYipTkxduZ",
      "include_colab_link": true
    },
    "kernelspec": {
      "display_name": "Python 3",
      "name": "python3"
    },
    "language_info": {
      "name": "python"
    }
  },
  "nbformat": 4,
  "nbformat_minor": 0
}